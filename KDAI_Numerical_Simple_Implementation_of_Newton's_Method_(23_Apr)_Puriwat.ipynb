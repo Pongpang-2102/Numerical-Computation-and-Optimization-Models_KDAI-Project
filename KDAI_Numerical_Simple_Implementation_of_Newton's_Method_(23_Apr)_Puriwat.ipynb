{
  "nbformat": 4,
  "nbformat_minor": 0,
  "metadata": {
    "colab": {
      "provenance": [],
      "include_colab_link": true
    },
    "kernelspec": {
      "name": "python3",
      "display_name": "Python 3"
    },
    "language_info": {
      "name": "python"
    }
  },
  "cells": [
    {
      "cell_type": "markdown",
      "metadata": {
        "id": "view-in-github",
        "colab_type": "text"
      },
      "source": [
        "<a href=\"https://colab.research.google.com/github/Pongpang-2102/Numerical-Computation-and-Optimization-Models_KDAI-Project/blob/main/KDAI_Numerical_Simple_Implementation_of_Newton's_Method_(23_Apr)_Puriwat.ipynb\" target=\"_parent\"><img src=\"https://colab.research.google.com/assets/colab-badge.svg\" alt=\"Open In Colab\"/></a>"
      ]
    },
    {
      "cell_type": "code",
      "source": [
        "# import package\n",
        "\n",
        "import pandas as pd\n",
        "import numpy as np\n",
        "import math"
      ],
      "metadata": {
        "id": "ibmFnGZRKJ6r"
      },
      "execution_count": 1,
      "outputs": []
    },
    {
      "cell_type": "markdown",
      "source": [
        "## In Class Example"
      ],
      "metadata": {
        "id": "SVYy1zfsNBvx"
      }
    },
    {
      "cell_type": "code",
      "execution_count": 3,
      "metadata": {
        "colab": {
          "base_uri": "https://localhost:8080/"
        },
        "id": "-wdLkXxY_y2X",
        "outputId": "2cd999c3-e105-40d1-db0a-739302b64fa0"
      },
      "outputs": [
        {
          "output_type": "stream",
          "name": "stdout",
          "text": [
            "Enter Guess : 2\n",
            "Tolerable Error : 0.000001\n",
            "Maximum Step : 10\n",
            "\n",
            "\n",
            "*** NEWTON METHOD IMPLEMENTATION\n",
            "Iteration -1, x1 = 3.571429 and f(x1) = 18.696793\n",
            "Iteration -2, x1 = 3.009378 and f(x1) = 3.207103\n",
            "Iteration -3, x1 = 2.864712 and f(x1) = 0.185915\n",
            "Iteration -4, x1 = 2.855236 and f(x1) = 0.000771\n",
            "Iteration -5, x1 = 2.855197 and f(x1) = 0.000000\n",
            "\n",
            "Required root is : 2.85519654\n"
          ]
        }
      ],
      "source": [
        "# Definining function\n",
        "def f(x) :\n",
        "    return x ** 3 - 5*x - 9\n",
        "\n",
        "# Defining derivative of function\n",
        "def g(x) :\n",
        "    return 3*x**2 - 5\n",
        "\n",
        "# Defining Newton Method\n",
        "def newtonRaphson(x0,e,N) : # e - Tolerance input / N - Maximum of loop\n",
        "    print('\\n\\n*** NEWTON METHOD IMPLEMENTATION')\n",
        "    step = 1 \n",
        "    flag = 1\n",
        "    condition = True\n",
        "    while condition:\n",
        "        if g(x0) == 0.0:\n",
        "            print(\"Divide by zero error!\")\n",
        "            break\n",
        "\n",
        "        x1 = x0 - f(x0)/g(x0)\n",
        "        print('Iteration -%d, x1 = %0.6f and f(x1) = %0.6f' %(step, x1 , f(x1) ))\n",
        "        x0 = x1\n",
        "        step = step + 1\n",
        "\n",
        "        if step > N:\n",
        "            flag = 0 \n",
        "            break\n",
        "\n",
        "        condition =  abs(f(x1)) > e\n",
        "\n",
        "    if flag == 1:\n",
        "        print('\\nRequired root is : %0.8f' %x1)\n",
        "    \n",
        "    else :\n",
        "        print('\\nNot Convergent.')\n",
        "\n",
        "\n",
        "\n",
        "# input section\n",
        "x0 = input('Enter Guess : ')\n",
        "e = input('Tolerable Error : ')\n",
        "N = input('Maximum Step : ')\n",
        "\n",
        "\n",
        "# Converting x0 and e to Float\n",
        "x0 = float(x0)\n",
        "e = float(e)\n",
        "\n",
        "\n",
        "# Converting N to Integer\n",
        "N = int(N)\n",
        "\n",
        "\n",
        "# Note : You can combine above three section like this\n",
        "# x0 = float(input('Enter Guess : '))\n",
        "# e = input('Tolerable Error : ')\n",
        "# N = input('Maximum Step : ')\n",
        "\n",
        "# Starting Newton Method \n",
        "newtonRaphson(x0,e,N)\n",
        "\n",
        "\n",
        "\n"
      ]
    },
    {
      "cell_type": "markdown",
      "source": [
        "## Exercise : Q1-2"
      ],
      "metadata": {
        "id": "Th2X2ke8M9dJ"
      }
    },
    {
      "cell_type": "markdown",
      "source": [
        "- Find the root of the following function using the Newton's method : f(x) = 3cos(x) - e^x"
      ],
      "metadata": {
        "id": "MkT1ZYPkNHSx"
      }
    },
    {
      "cell_type": "markdown",
      "source": [
        "- First guess : 0.5 \n",
        "- Tol : 0.00001\n",
        "- Maximum Step : 10\n",
        "- The root of the function is 0.76857930\n",
        "- Number of iterations : 3"
      ],
      "metadata": {
        "id": "A7b9ih2uNWlJ"
      }
    },
    {
      "cell_type": "code",
      "source": [
        "# Definining function\n",
        "def f(x) :\n",
        "    return 3*math.cos(x) - (math.e**x)\n",
        "\n",
        "# Defining derivative of function f'(x)\n",
        "def g(x) :\n",
        "    return (-3)*math.sin(x) - (math.e**x)\n",
        "\n",
        "# Defining Newton Method\n",
        "def newtonRaphson(x0,e,N) :\n",
        "    print('\\n\\n*** NEWTON METHOD IMPLEMENTATION')\n",
        "    step = 1 \n",
        "    flag = 1\n",
        "    condition = True\n",
        "    while condition:\n",
        "        if g(x0) == 0.0:\n",
        "            print(\"Divide by zero error!\")\n",
        "            break\n",
        "\n",
        "        x1 = x0 - f(x0)/g(x0)\n",
        "        print('Iteration: %d, x1 = %0.6f and f(x1) = %0.6f' %(step, x1 , f(x1) ))\n",
        "        x0 = x1\n",
        "        step = step + 1\n",
        "\n",
        "        if step > N:\n",
        "            flag = 0 \n",
        "            break\n",
        "\n",
        "        condition =  abs(f(x1)) > e\n",
        "\n",
        "    if flag == 1:\n",
        "        print('\\nRequired root is : %0.8f' %x1)\n",
        "    \n",
        "    else :\n",
        "        print('\\nNot Convergent.')\n",
        "\n",
        "\n",
        "\n",
        "# input section\n",
        "x0 = input('Enter Guess : ')\n",
        "e = input('Tolerable Error : ')\n",
        "N = input('Maximum Step : ')\n",
        "\n",
        "\n",
        "# Converting x0 and e to Float\n",
        "x0 = float(x0)\n",
        "e = float(e)\n",
        "\n",
        "\n",
        "# Converting N to Integer\n",
        "N = int(N)\n",
        "\n",
        "\n",
        "# Note : You can combine above three section like this\n",
        "# x0 = float(input('Enter Guess : '))\n",
        "# e = input('Tolerable Error : ')\n",
        "# N = input('Maximum Step : ')\n",
        "\n",
        "# Starting Newton Method \n",
        "newtonRaphson(x0,e,N)"
      ],
      "metadata": {
        "colab": {
          "base_uri": "https://localhost:8080/"
        },
        "id": "SV4P3DiQGeoU",
        "outputId": "2bd11e57-b7c8-42a9-8ade-7eb6739657e3"
      },
      "execution_count": 4,
      "outputs": [
        {
          "output_type": "stream",
          "name": "stdout",
          "text": [
            "Enter Guess : 0.5\n",
            "Tolerable Error : 0.00001\n",
            "Maximum Step : 10\n",
            "\n",
            "\n",
            "*** NEWTON METHOD IMPLEMENTATION\n",
            "Iteration: 1, x1 = 0.818765 and f(x1) = -0.218326\n",
            "Iteration: 2, x1 = 0.769798 and f(x1) = -0.005174\n",
            "Iteration: 3, x1 = 0.768579 and f(x1) = -0.000003\n",
            "\n",
            "Required root is : 0.76857930\n"
          ]
        }
      ]
    },
    {
      "cell_type": "markdown",
      "source": [
        "Find the root of the function cos x = x using the Newton's method to 9 decimal places\n",
        "- First guess : 0.5\n",
        "- Tol : 0.00001\n",
        "- Maximum Step : 10\n",
        "\n",
        "- the root of the function is 0.76857930\n",
        "- Number of iterations : 3"
      ],
      "metadata": {
        "id": "RUs1ttesPm-h"
      }
    },
    {
      "cell_type": "code",
      "source": [
        "# Definining function\n",
        "def f(x) :\n",
        "    return math.cos(x)\n",
        "\n",
        "# Defining derivative of function f'(x)\n",
        "def g(x) :\n",
        "    return math.sin(x)*-1\n",
        "\n",
        "# Defining Newton Method\n",
        "def newtonRaphson(x0,e,N) :\n",
        "    print('\\n\\n*** NEWTON METHOD IMPLEMENTATION')\n",
        "    step = 1 \n",
        "    flag = 1\n",
        "    condition = True\n",
        "    while condition:\n",
        "        if g(x0) == 0.0:\n",
        "            print(\"Divide by zero error!\")\n",
        "            break\n",
        "\n",
        "        x1 = x0 - f(x0)/g(x0)\n",
        "        print('Iteration: %d, x1 = %0.6f and f(x1) = %0.6f' %(step, x1 , f(x1) ))\n",
        "        x0 = x1\n",
        "        step = step + 1\n",
        "\n",
        "        if step > N:\n",
        "            flag = 0 \n",
        "            break\n",
        "\n",
        "        condition =  abs(f(x1)) > e\n",
        "\n",
        "    if flag == 1:\n",
        "        print('\\nRequired root is : %0.9f' %x1)\n",
        "    \n",
        "    else :\n",
        "        print('\\nNot Convergent.')\n",
        "\n",
        "\n",
        "\n",
        "# input section\n",
        "x0 = input('Enter Guess : ')\n",
        "e = input('Tolerable Error : ')\n",
        "N = input('Maximum Step : ')\n",
        "\n",
        "\n",
        "# Converting x0 and e to Float\n",
        "x0 = float(x0)\n",
        "e = float(e)\n",
        "\n",
        "\n",
        "# Converting N to Integer\n",
        "N = int(N)\n",
        "\n",
        "# Starting Newton Method \n",
        "newtonRaphson(x0,e,N)"
      ],
      "metadata": {
        "colab": {
          "base_uri": "https://localhost:8080/"
        },
        "id": "pIqb0W2CP5k5",
        "outputId": "a600d6bd-7ba4-4cce-9c56-550a5d78711e"
      },
      "execution_count": 5,
      "outputs": [
        {
          "output_type": "stream",
          "name": "stdout",
          "text": [
            "Enter Guess : 0.5\n",
            "Tolerable Error : 0.00001\n",
            "Maximum Step : 10\n",
            "\n",
            "\n",
            "*** NEWTON METHOD IMPLEMENTATION\n",
            "Iteration: 1, x1 = 2.330488 and f(x1) = -0.688698\n",
            "Iteration: 2, x1 = 1.380623 and f(x1) = 0.189029\n",
            "Iteration: 3, x1 = 1.573123 and f(x1) = -0.002326\n",
            "Iteration: 4, x1 = 1.570796 and f(x1) = 0.000000\n",
            "\n",
            "Required root is : 1.570796323\n"
          ]
        }
      ]
    }
  ]
}